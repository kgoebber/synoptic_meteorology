{
 "cells": [
  {
   "cell_type": "markdown",
   "metadata": {},
   "source": [
    "# Hovmoller Diagram Example\n",
    "\n",
    "The Hovmoller diagram is used to average over an axis (e.g., latitude) to create a time series of values that can be plotted over the remaining spatial axis (e.g., longitude). This method of displaying data was first conceived by Ernest Hovmoller, a Danish meteorologist, in the late 1940's and was done to display the idea of downstream development that emenated from Rossby Wave dynamics. Historically this was done by plotting 500-hPa height values, but is now commonly done using 250-hPa v-component of the wind. Downstream devlopment is exemplified by increasing absolute values of the v-component of the wind as you move forward in time and to the east in space.\n",
    "\n",
    "The diagram that is constructed in this notebook is an average of the v-component of the wind over the latitude belt from 30 to 70N and has time increasing as you go down the y-axis.\n",
    "\n",
    "For further explination see Lackman (2011) (the course textbook) page 26-27."
   ]
  },
  {
   "cell_type": "code",
   "execution_count": null,
   "metadata": {},
   "outputs": [],
   "source": [
    "from datetime import datetime\n",
    "\n",
    "import cartopy.crs as ccrs\n",
    "import cartopy.feature as cfeature\n",
    "import matplotlib.gridspec as gridspec\n",
    "import matplotlib.pyplot as plt\n",
    "import metpy.calc as mpcalc\n",
    "from metpy.constants import earth_avg_radius\n",
    "from metpy.units import units\n",
    "import numpy as np\n",
    "from scipy.ndimage import gaussian_filter\n",
    "import xarray as xr"
   ]
  },
  {
   "cell_type": "markdown",
   "metadata": {},
   "source": [
    "## Get the data\n",
    "\n",
    "Set the time range, parameter, and level to desired values"
   ]
  },
  {
   "cell_type": "code",
   "execution_count": null,
   "metadata": {},
   "outputs": [],
   "source": [
    "# Set these values to the range you desire. Currently, all data must be from the same year.\n",
    "start_time = '2011-01-25'\n",
    "end_time = '2011-02-15'\n",
    "\n",
    "time_slice = slice(start_time, end_time)\n",
    "\n",
    "param = 'vwnd'\n",
    "level = 250\n",
    "\n",
    "ds = xr.open_dataset('http://psl.noaa.gov/psd/thredds/dodsC/Datasets/'\n",
    "                     f'ncep.reanalysis/pressure/{param}.{start_time[:4]}.nc')\n",
    "ds_ltm = xr.open_dataset('http://psl.noaa.gov/psd/thredds/dodsC/Datasets/ncep.reanalysis.derived/pressure/'\n",
    "                         f'{param}.4Xday.1981-2010.ltm.nc', decode_times=False)\n",
    "\n",
    "lat_slice = slice(70, 30)\n",
    "lon_slice = slice(0,360)\n",
    "\n",
    "data = ds[param].sel(time=time_slice,\n",
    "                     level=level,\n",
    "                     lat=lat_slice,\n",
    "                     lon=lon_slice)\n",
    "\n",
    "data_ltm = ds_ltm[param].sel(level=level,\n",
    "                             lat=lat_slice,\n",
    "                             lon=lon_slice)[data.time.values.argmin():(data.time.values.argmax()+1)]"
   ]
  },
  {
   "cell_type": "code",
   "execution_count": null,
   "metadata": {},
   "outputs": [],
   "source": [
    "lats = ds[param].lat.sel(lat=lat_slice).values\n",
    "lons = ds[param].lon.sel(lon=lon_slice).values\n",
    "lats = np.append(lats[0] + (lats[0]-lats[1]), lats)\n",
    "lons = np.append(lons, lons[-1] + (lons[0]-lons[1]))\n",
    "lons, lats = np.meshgrid(lons, lats)\n",
    "dx, dy = mpcalc.lat_lon_grid_deltas(lons, lats)\n",
    "weights = np.tile((dx[:-1, :].m * dy[:, :-1].m), (data.time.shape[0], 1, 1))"
   ]
  },
  {
   "cell_type": "code",
   "execution_count": null,
   "metadata": {},
   "outputs": [],
   "source": [
    "#avg_data = data.mean(dim='lat', kwargs={'weights': weights[data.time.shape[0], :, 0], 'axis':1})\n",
    "avg_data = np.average(data, axis=1, weights=weights[:data.time.shape[0], :data.lat.shape[0], :])\n",
    "avg_data_ltm = np.average(data_ltm, axis=1, weights=weights[:data.time.shape[0], :data.lat.shape[0], :])\n",
    "\n",
    "anomaly_data = avg_data - avg_data_ltm\n",
    "\n",
    "times = data.time.values\n",
    "lons = data.lon.values\n",
    "\n",
    "vtimes = []\n",
    "for itime in range(len(times)):\n",
    "    vtimes.append(times[itime].astype('datetime64[ms]').astype('O'))"
   ]
  },
  {
   "cell_type": "markdown",
   "metadata": {},
   "source": [
    "## Make the Hovmoller Plot"
   ]
  },
  {
   "cell_type": "code",
   "execution_count": null,
   "metadata": {},
   "outputs": [],
   "source": [
    "fig = plt.figure(figsize=(11, 16),constrained_layout=True)\n",
    "gs = gridspec.GridSpec(nrows=2, ncols=1, figure=fig, height_ratios=[1, 7])\n",
    "\n",
    "ax1 = fig.add_subplot(gs[0,0], projection=ccrs.PlateCarree(central_longitude=180))\n",
    "ax1.set_extent([0, 357.5, 25, 75], ccrs.PlateCarree(central_longitude=180))\n",
    "ax1.set_yticks([40, 60])\n",
    "ax1.set_yticklabels(['40$^\\circ$N', '60$^\\circ$N'])\n",
    "ax1.set_xticks([-180, -90, 0, 90, 180])\n",
    "ax1.set_xticklabels(['0$^\\circ$E', '90$^\\circ$E', '180$^\\circ$E', '90$^\\circ$W', '0$^\\circ$E'])\n",
    "ax1.grid(linestyle='dotted', linewidth=2)\n",
    "\n",
    "# Add geopolitical boundaries for map reference\n",
    "ax1.add_feature(cfeature.COASTLINE.with_scale('50m'))\n",
    "ax1.add_feature(cfeature.LAKES.with_scale('50m'), color='black', linewidths=0.5)\n",
    "\n",
    "ax2 = fig.add_subplot(gs[1,0])\n",
    "ax2.invert_yaxis()\n",
    "clevs = range(-50, 51, 5)\n",
    "#hatches_cf = ['/' if i < 0 else None for i in clevs]\n",
    "cf = ax2.contourf(lons, times, gaussian_filter(avg_data, sigma=1.0), clevs, cmap=plt.cm.bwr, extend='both')\n",
    "cs = ax2.contour(lons, times, gaussian_filter(avg_data, sigma=1.0), clevs, colors='k', linewidths=1)\n",
    "ax2.set_xticks([0, 90, 180, 270, 357.5])\n",
    "ax2.set_xticklabels(['0$^\\circ$E', '90$^\\circ$E', '180$^\\circ$E', '90$^\\circ$W', '0$^\\circ$E'])\n",
    "plt.colorbar(cf, orientation='horizontal', pad=0.02, aspect=50, extendrect=True)\n",
    "plt.title('Hovmoller Diagram: NCEP-NCAR Reanalysis 250-hPa V-wind', loc='left', fontsize=10)\n",
    "plt.title('Time Range: {0:%Y%m%d %HZ} - {1:%Y%m%d %HZ}'.format(vtimes[0],vtimes[-1]), loc='right', fontsize=10)\n",
    "\n",
    "plt.savefig('hovmoller_{:%Y%m%d%H}_{:%Y%m%d%H}.png'.format(vtimes[0], vtimes[-1]), bbox_inches='tight', dpi=150)\n",
    "\n",
    "plt.show()"
   ]
  },
  {
   "cell_type": "code",
   "execution_count": null,
   "metadata": {},
   "outputs": [],
   "source": []
  }
 ],
 "metadata": {
  "kernelspec": {
   "display_name": "main",
   "language": "python",
   "name": "main"
  },
  "language_info": {
   "codemirror_mode": {
    "name": "ipython",
    "version": 3
   },
   "file_extension": ".py",
   "mimetype": "text/x-python",
   "name": "python",
   "nbconvert_exporter": "python",
   "pygments_lexer": "ipython3",
   "version": "3.11.4"
  }
 },
 "nbformat": 4,
 "nbformat_minor": 4
}
